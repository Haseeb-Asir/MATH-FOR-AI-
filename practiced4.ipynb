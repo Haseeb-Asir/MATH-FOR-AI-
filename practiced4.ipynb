{
 "cells": [
  {
   "cell_type": "code",
   "execution_count": 2,
   "id": "c161c405",
   "metadata": {},
   "outputs": [
    {
     "name": "stdout",
     "output_type": "stream",
     "text": [
      "95% CI (Z): (np.float64(27.342608094567563), np.float64(28.657391905432437))\n"
     ]
    }
   ],
   "source": [
    "import numpy as np\n",
    "from scipy import stats\n",
    "\n",
    "# Sample data\n",
    "sample_mean = 28\n",
    "\n",
    "sigma = 15  # Population std (known)\n",
    "n = 2000\n",
    "confidence_level = 0.95\n",
    "\n",
    "# Calculate Z critical value\n",
    "z_critical = stats.norm.ppf(1 - (1 - confidence_level)/2)\n",
    "\n",
    "# Margin of error\n",
    "margin_of_error = z_critical * (sigma / np.sqrt(n))\n",
    "\n",
    "# Confidence interval\n",
    "ci = (sample_mean - margin_of_error, sample_mean + margin_of_error)\n",
    "print(f\"95% CI (Z): {ci}\")  # Output: (27.34, 28.66)"
   ]
  },
  {
   "cell_type": "code",
   "execution_count": 4,
   "id": "2ced3b60",
   "metadata": {},
   "outputs": [
    {
     "name": "stdout",
     "output_type": "stream",
     "text": [
      "95% CI (T): (np.float64(22.3989079486285), np.float64(33.601092051371495))\n"
     ]
    }
   ],
   "source": [
    "# Sample data (σ unknown)\n",
    "sample_mean = 28\n",
    "sample_std = 15  # Sample std (unknown σ)\n",
    "n = 30\n",
    "df = n - 1  # Degrees of freedom\n",
    "confidence_level = 0.95\n",
    "\n",
    "# Calculate t critical value\n",
    "t_critical = stats.t.ppf(1 - (1 - confidence_level)/2, df)\n",
    "\n",
    "# Margin of error\n",
    "margin_of_error = t_critical * (sample_std / np.sqrt(n))\n",
    "\n",
    "# Confidence interval\n",
    "ci = (sample_mean - margin_of_error, sample_mean + margin_of_error)\n",
    "print(f\"95% CI (T): {ci}\")  # Output: (22.39, 33.61)"
   ]
  },
  {
   "cell_type": "code",
   "execution_count": null,
   "id": "e12d46b9",
   "metadata": {},
   "outputs": [],
   "source": []
  }
 ],
 "metadata": {
  "kernelspec": {
   "display_name": "Python 3",
   "language": "python",
   "name": "python3"
  },
  "language_info": {
   "codemirror_mode": {
    "name": "ipython",
    "version": 3
   },
   "file_extension": ".py",
   "mimetype": "text/x-python",
   "name": "python",
   "nbconvert_exporter": "python",
   "pygments_lexer": "ipython3",
   "version": "3.11.0"
  }
 },
 "nbformat": 4,
 "nbformat_minor": 5
}
