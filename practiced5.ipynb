{
 "cells": [
  {
   "cell_type": "code",
   "execution_count": 1,
   "id": "d9300ee0",
   "metadata": {},
   "outputs": [
    {
     "name": "stdout",
     "output_type": "stream",
     "text": [
      "One-Sample T-Test (P-value approach):\n",
      "T-statistic: 2.762, P-value: 0.033\n",
      "Reject H₀: Sample mean ≠ population mean\n",
      "\n",
      "Critical t-value (±): 2.447\n",
      "Reject H₀ (|t| > critical value)\n"
     ]
    }
   ],
   "source": [
    "from scipy import stats\n",
    "import numpy as np\n",
    "\n",
    "# Sample data (compare to population mean=70)\n",
    "sample = np.array([72, 75, 68, 77, 74, 71, 76])\n",
    "pop_mean = 70\n",
    "\n",
    "# P-value approach\n",
    "t_stat, p_value = stats.ttest_1samp(sample, pop_mean, alternative='two-sided')\n",
    "print(f\"One-Sample T-Test (P-value approach):\")\n",
    "print(f\"T-statistic: {t_stat:.3f}, P-value: {p_value:.3f}\")\n",
    "if p_value < 0.05:\n",
    "    print(\"Reject H₀: Sample mean ≠ population mean\")\n",
    "else:\n",
    "    print(\"Fail to reject H₀\")\n",
    "\n",
    "# Rejection region approach (two-tailed)\n",
    "alpha = 0.05\n",
    "df = len(sample) - 1\n",
    "t_critical = stats.t.ppf(1 - alpha/2, df)\n",
    "print(f\"\\nCritical t-value (±): {t_critical:.3f}\")\n",
    "if abs(t_stat) > t_critical:\n",
    "    print(\"Reject H₀ (|t| > critical value)\")\n",
    "else:\n",
    "    print(\"Fail to reject H₀\")"
   ]
  },
  {
   "cell_type": "code",
   "execution_count": 2,
   "id": "e26cfb56",
   "metadata": {},
   "outputs": [
    {
     "name": "stdout",
     "output_type": "stream",
     "text": [
      "\n",
      "Independent T-Test (P-value approach):\n",
      "T-statistic: 4.249, P-value: 0.003\n",
      "Reject H₀: Group means are different\n",
      "\n",
      "Critical t-value (±): 2.306\n",
      "Reject H₀ (|t| > critical value)\n"
     ]
    }
   ],
   "source": [
    "# Sample data (Group A vs Group B)\n",
    "group_a = np.array([85, 88, 82, 90, 87])\n",
    "group_b = np.array([78, 82, 75, 80, 79])\n",
    "\n",
    "# P-value approach (assumes equal variances)\n",
    "t_stat, p_value = stats.ttest_ind(group_a, group_b, equal_var=True)\n",
    "print(f\"\\nIndependent T-Test (P-value approach):\")\n",
    "print(f\"T-statistic: {t_stat:.3f}, P-value: {p_value:.3f}\")\n",
    "if p_value < 0.05:\n",
    "    print(\"Reject H₀: Group means are different\")\n",
    "else:\n",
    "    print(\"Fail to reject H₀\")\n",
    "\n",
    "# Rejection region approach\n",
    "df = len(group_a) + len(group_b) - 2\n",
    "t_critical = stats.t.ppf(1 - alpha/2, df)\n",
    "print(f\"\\nCritical t-value (±): {t_critical:.3f}\")\n",
    "if abs(t_stat) > t_critical:\n",
    "    print(\"Reject H₀ (|t| > critical value)\")\n",
    "else:\n",
    "    print(\"Fail to reject H₀\")"
   ]
  },
  {
   "cell_type": "code",
   "execution_count": 3,
   "id": "c124f898",
   "metadata": {},
   "outputs": [
    {
     "name": "stdout",
     "output_type": "stream",
     "text": [
      "\n",
      "Paired T-Test (P-value approach):\n",
      "T-statistic: 12.829, P-value: 0.000\n",
      "Reject H₀: Significant difference after treatment\n",
      "\n",
      "Critical t-value (±): 2.776\n",
      "Reject H₀ (|t| > critical value)\n"
     ]
    }
   ],
   "source": [
    "# Before/after data\n",
    "before = np.array([60, 62, 65, 58, 63])\n",
    "after = np.array([65, 68, 70, 62, 67])\n",
    "\n",
    "# P-value approach\n",
    "t_stat, p_value = stats.ttest_rel(after, before)\n",
    "print(f\"\\nPaired T-Test (P-value approach):\")\n",
    "print(f\"T-statistic: {t_stat:.3f}, P-value: {p_value:.3f}\")\n",
    "if p_value < 0.05:\n",
    "    print(\"Reject H₀: Significant difference after treatment\")\n",
    "else:\n",
    "    print(\"Fail to reject H₀\")\n",
    "\n",
    "# Rejection region approach\n",
    "df = len(before) - 1\n",
    "t_critical = stats.t.ppf(1 - alpha/2, df)\n",
    "print(f\"\\nCritical t-value (±): {t_critical:.3f}\")\n",
    "if abs(t_stat) > t_critical:\n",
    "    print(\"Reject H₀ (|t| > critical value)\")\n",
    "else:\n",
    "    print(\"Fail to reject H₀\")"
   ]
  },
  {
   "cell_type": "code",
   "execution_count": null,
   "id": "038cd867",
   "metadata": {},
   "outputs": [],
   "source": []
  }
 ],
 "metadata": {
  "kernelspec": {
   "display_name": "Python 3",
   "language": "python",
   "name": "python3"
  },
  "language_info": {
   "codemirror_mode": {
    "name": "ipython",
    "version": 3
   },
   "file_extension": ".py",
   "mimetype": "text/x-python",
   "name": "python",
   "nbconvert_exporter": "python",
   "pygments_lexer": "ipython3",
   "version": "3.11.0"
  }
 },
 "nbformat": 4,
 "nbformat_minor": 5
}
