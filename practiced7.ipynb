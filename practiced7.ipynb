{
 "cells": [
  {
   "cell_type": "code",
   "execution_count": 1,
   "id": "d91b2ef0",
   "metadata": {},
   "outputs": [
    {
     "name": "stdout",
     "output_type": "stream",
     "text": [
      "Scalar-Vector Multiplication: [2 4]\n"
     ]
    }
   ],
   "source": [
    "import numpy as np\n",
    "\n",
    "scalar = 2\n",
    "vector = np.array([1, 2])\n",
    "result = scalar * vector\n",
    "print(\"Scalar-Vector Multiplication:\", result)  # Output: [2, 4]"
   ]
  },
  {
   "cell_type": "code",
   "execution_count": 2,
   "id": "17fbaa32",
   "metadata": {},
   "outputs": [
    {
     "name": "stdout",
     "output_type": "stream",
     "text": [
      "Span Example: [3 6]\n"
     ]
    }
   ],
   "source": [
    "# Span of [1, 2] is all vectors of the form k*[1, 2]\n",
    "k = 3  # Arbitrary scalar\n",
    "span_vector = k * np.array([1, 2])\n",
    "print(\"Span Example:\", span_vector)  # Output: [3, 6]"
   ]
  },
  {
   "cell_type": "code",
   "execution_count": 3,
   "id": "e6b0ea8c",
   "metadata": {},
   "outputs": [
    {
     "name": "stdout",
     "output_type": "stream",
     "text": [
      "Are v1 and v2 linearly dependent? True\n"
     ]
    }
   ],
   "source": [
    "# Check if vectors [1, 2] and [2, 4] are linearly dependent\n",
    "v1 = np.array([1, 2])\n",
    "v2 = np.array([2, 4])\n",
    "# If one is a scalar multiple of the other → dependent\n",
    "print(\"Are v1 and v2 linearly dependent?\", np.allclose(v2, 2 * v1))  # Output: True"
   ]
  },
  {
   "cell_type": "code",
   "execution_count": 4,
   "id": "aa738661",
   "metadata": {},
   "outputs": [
    {
     "name": "stdout",
     "output_type": "stream",
     "text": [
      "X-intercept: (3, 0)\n",
      "Y-intercept: (0, 2)\n"
     ]
    }
   ],
   "source": [
    "# For line 2x + 3y = 6\n",
    "# X-intercept (y=0): x = 6/2 = 3\n",
    "# Y-intercept (x=0): y = 6/3 = 2\n",
    "print(\"X-intercept:\", (3, 0))\n",
    "print(\"Y-intercept:\", (0, 2))"
   ]
  },
  {
   "cell_type": "code",
   "execution_count": null,
   "id": "bcb6c005",
   "metadata": {},
   "outputs": [],
   "source": [
    "# Solve: x + y = 5, 2x - y = 1\n",
    "# Manual solution: x=2, y=3"
   ]
  },
  {
   "cell_type": "code",
   "execution_count": 5,
   "id": "3d1fc7e8",
   "metadata": {},
   "outputs": [
    {
     "name": "stdout",
     "output_type": "stream",
     "text": [
      "Solution via Inverse: [2. 3.]\n"
     ]
    }
   ],
   "source": [
    "A = np.array([[1, 1], [2, -1]])\n",
    "B = np.array([5, 1])\n",
    "X = np.linalg.inv(A) @ B\n",
    "print(\"Solution via Inverse:\", X)  # Output: [2., 3.]"
   ]
  },
  {
   "cell_type": "code",
   "execution_count": 8,
   "id": "6157dbec",
   "metadata": {},
   "outputs": [
    {
     "name": "stdout",
     "output_type": "stream",
     "text": [
      "Solution via LU: [2. 3.]\n"
     ]
    }
   ],
   "source": [
    "from scipy.linalg import lu_factor, lu_solve\n",
    "lu, piv = lu_factor(A)\n",
    "X = lu_solve((lu, piv), B)\n",
    "print(\"Solution via LU:\", X)  # Output: [2., 3.]\n"
   ]
  },
  {
   "cell_type": "code",
   "execution_count": 9,
   "id": "fac8d65a",
   "metadata": {},
   "outputs": [
    {
     "name": "stdout",
     "output_type": "stream",
     "text": [
      "Solution via SVD: [2. 3.]\n"
     ]
    }
   ],
   "source": [
    "U, S, VT = np.linalg.svd(A, full_matrices=False)\n",
    "X = VT.T @ np.linalg.inv(np.diag(S)) @ U.T @ B\n",
    "print(\"Solution via SVD:\", X)  # Output: [2., 3.]"
   ]
  },
  {
   "cell_type": "code",
   "execution_count": 10,
   "id": "dd6b4963",
   "metadata": {},
   "outputs": [
    {
     "name": "stdout",
     "output_type": "stream",
     "text": [
      "Eigenvalues: [3. 1.]\n",
      "Eigenvectors:\n",
      " [[ 0.70710678 -0.70710678]\n",
      " [ 0.70710678  0.70710678]]\n"
     ]
    }
   ],
   "source": [
    "A = np.array([[2, 1], [1, 2]])\n",
    "eigenvalues, eigenvectors = np.linalg.eig(A)\n",
    "print(\"Eigenvalues:\", eigenvalues)  # Output: [3., 1.]\n",
    "print(\"Eigenvectors:\\n\", eigenvectors)  # Columns are eigenvectors"
   ]
  },
  {
   "cell_type": "code",
   "execution_count": 11,
   "id": "6ba0c9e9",
   "metadata": {},
   "outputs": [
    {
     "name": "stdout",
     "output_type": "stream",
     "text": [
      "Principal Components (Eigenvectors):\n",
      " [[ 0.70710678  0.70710678]\n",
      " [-0.70710678  0.70710678]]\n",
      "Explained Variance (Eigenvalues): [8. 0.]\n"
     ]
    }
   ],
   "source": [
    "from sklearn.decomposition import PCA\n",
    "\n",
    "data = np.array([[1, 2], [3, 4], [5, 6]])\n",
    "pca = PCA(n_components=2)\n",
    "pca.fit(data)\n",
    "print(\"Principal Components (Eigenvectors):\\n\", pca.components_)\n",
    "print(\"Explained Variance (Eigenvalues):\", pca.explained_variance_)"
   ]
  },
  {
   "cell_type": "code",
   "execution_count": null,
   "id": "f6138581",
   "metadata": {},
   "outputs": [],
   "source": []
  }
 ],
 "metadata": {
  "kernelspec": {
   "display_name": "Python 3",
   "language": "python",
   "name": "python3"
  },
  "language_info": {
   "codemirror_mode": {
    "name": "ipython",
    "version": 3
   },
   "file_extension": ".py",
   "mimetype": "text/x-python",
   "name": "python",
   "nbconvert_exporter": "python",
   "pygments_lexer": "ipython3",
   "version": "3.11.0"
  }
 },
 "nbformat": 4,
 "nbformat_minor": 5
}
